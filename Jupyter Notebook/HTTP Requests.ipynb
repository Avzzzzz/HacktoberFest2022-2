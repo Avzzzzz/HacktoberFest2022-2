{
 "cells": [
  {
   "cell_type": "markdown",
   "metadata": {},
   "source": [
    "# HTTP GET REQUEST"
   ]
  },
  {
   "cell_type": "markdown",
   "metadata": {},
   "source": [
    "### Fetching data from a webpage and performing some basic operations"
   ]
  },
  {
   "cell_type": "code",
   "execution_count": 7,
   "metadata": {},
   "outputs": [],
   "source": [
    "import requests\n",
    "from bs4 import BeautifulSoup"
   ]
  },
  {
   "cell_type": "code",
   "execution_count": 35,
   "metadata": {},
   "outputs": [
    {
     "name": "stdout",
     "output_type": "stream",
     "text": [
      "₹1,40,300\n"
     ]
    }
   ],
   "source": [
    "request = requests.get(\"https://www.flipkart.com/apple-iphone-11-pro-midnight-green-512-gb/p/itm0bdd954387ca9?pid=MOBFKCTSSJCWYGCC&lid=LSTMOBFKCTSSJCWYGCCMAKHPJ&marketplace=FLIPKART&srno=s_1_1&otracker=search&otracker1=search&fm=organic&iid=d9e7ddc7-ad08-450f-942b-66035585238c.MOBFKCTSSJCWYGCC.SEARCH&ssid=7gcf3jmmdc0000001587479129047&qH=2af92350bd5b683b\")\n",
    "content = request.content\n",
    "soup = BeautifulSoup(content, \"html.parser\")\n",
    "element = soup.find(\"div\", {\"class\": \"_1vC4OE _3qQ9m1\"})\n",
    "print(element.text)"
   ]
  },
  {
   "cell_type": "code",
   "execution_count": 36,
   "metadata": {},
   "outputs": [
    {
     "name": "stdout",
     "output_type": "stream",
     "text": [
      "1,40,300\n"
     ]
    }
   ],
   "source": [
    "element = element.text\n",
    "element = element[1:]\n",
    "print(element)"
   ]
  },
  {
   "cell_type": "code",
   "execution_count": 41,
   "metadata": {},
   "outputs": [
    {
     "name": "stdout",
     "output_type": "stream",
     "text": [
      "140300.0\n"
     ]
    }
   ],
   "source": [
    "price = float(element.replace(',', ''))\n",
    "print(price)"
   ]
  },
  {
   "cell_type": "code",
   "execution_count": 44,
   "metadata": {},
   "outputs": [
    {
     "name": "stdout",
     "output_type": "stream",
     "text": [
      "Enter your budget for the new smartphone: 200000\n"
     ]
    }
   ],
   "source": [
    "budget = float(input(\"Enter your budget for the new smartphone: \"))"
   ]
  },
  {
   "cell_type": "code",
   "execution_count": 46,
   "metadata": {},
   "outputs": [
    {
     "name": "stdout",
     "output_type": "stream",
     "text": [
      "You should buy the smartphone.\n",
      "The current price of Iphone is: ₹1,40,300\n"
     ]
    }
   ],
   "source": [
    "if budget>price:\n",
    "    print(\"You should buy the smartphone.\\nThe current price of Iphone is: ₹{}\".format(element))\n",
    "elif budget==price:\n",
    "    print(\"You can surely buy the smartphone but, you should consider twice before buying\")\n",
    "else:\n",
    "    print(\"Do not buy. Smartphones are really getting expensive these days!\")"
   ]
  },
  {
   "cell_type": "code",
   "execution_count": null,
   "metadata": {},
   "outputs": [],
   "source": []
  }
 ],
 "metadata": {
  "kernelspec": {
   "display_name": "Python 3",
   "language": "python",
   "name": "python3"
  },
  "language_info": {
   "codemirror_mode": {
    "name": "ipython",
    "version": 3
   },
   "file_extension": ".py",
   "mimetype": "text/x-python",
   "name": "python",
   "nbconvert_exporter": "python",
   "pygments_lexer": "ipython3",
   "version": "3.8.8"
  }
 },
 "nbformat": 4,
 "nbformat_minor": 4
}
